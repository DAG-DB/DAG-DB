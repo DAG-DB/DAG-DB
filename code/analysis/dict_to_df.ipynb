{
 "cells": [
  {
   "cell_type": "code",
   "execution_count": 1,
   "metadata": {
    "collapsed": true,
    "pycharm": {
     "name": "#%%\n"
    }
   },
   "outputs": [],
   "source": [
    "import pandas as pd\n",
    "\n",
    "hyperparameters = {\n",
    "\t'GRAPH_TYPE': 'ER2',\n",
    "\t'D': 30,\n",
    "\n",
    "\t'MAX_SIZE': 66,\n",
    "\n",
    "\t'SEM_NOISE': 'gaussian_ev',\n",
    "\n",
    "\t'N': 1200,\n",
    "\t'VAL': 1 / 6,\n",
    "\n",
    "\t'N_EPOCHS': 1_000,\n",
    "\t'BATCH_SIZE': 32,\n",
    "\t'BATCH_SHUFFLE': True,\n",
    "\t'N_SAMPLES': 10,\n",
    "\n",
    "\t'h_NULL': 'trial.suggest_float(\"h_null\", 1e-3, 3., log=True)',\n",
    "\n",
    "\t'h_LR': 'trial.suggest_float(\"h_lr\", 1e-5, 1., log=True)',\n",
    "\t'h_OPTIMIZER': f'torch.optim.Adam(overall_net.h_net.parameters(), lr=h.h_LR)',\n",
    "\t'f_LR': 'trial.suggest_float(\"f_lr\", 1e-5, 1., log=True)',\n",
    "\t'f_OPTIMIZER': f'torch.optim.Adam(overall_net.f_net.parameters(), lr=h.f_LR)',\n",
    "\n",
    "\t'NOISE_TEMPERATURE': 'trial.suggest_float(\"noise_temp\", 0.03, 30, log=True)',\n",
    "\t'NOISE_DISTRIBUTION': 'GumbelNoiseDistribution()',\n",
    "\t'LAMBDA': 'trial.suggest_float(\"lambda\", 0.03, 30, log=True)',\n",
    "\n",
    "\t'z_RHO': 'trial.suggest_float(\"z_rho\", 0.01, 2, log=True)',\n",
    "\t'z_MU': 'trial.suggest_float(\"z_mu\", 0.01, 2, log=True)',\n",
    "\t'z_REGULARIZER': 'NoTearsZRegularizer(h.D, h.z_RHO, h.z_MU, c.DEVICE)',\n",
    "}"
   ]
  },
  {
   "cell_type": "code",
   "execution_count": null,
   "outputs": [],
   "source": [],
   "metadata": {
    "collapsed": false,
    "pycharm": {
     "name": "#%%\n"
    }
   }
  },
  {
   "cell_type": "code",
   "execution_count": 24,
   "outputs": [],
   "source": [
    "h = {key: ['', 'describe', value] for key, value in hyperparameters.items()}\n",
    "cols = ['Maths symbol', 'Description', 'Example']\n",
    "df = pd.DataFrame.from_dict(h, orient='index', columns=cols)\n",
    "df.index.name = 'Hyperparameter'"
   ],
   "metadata": {
    "collapsed": false,
    "pycharm": {
     "name": "#%%\n"
    }
   }
  },
  {
   "cell_type": "code",
   "execution_count": 25,
   "outputs": [
    {
     "name": "stdout",
     "output_type": "stream",
     "text": [
      "\\begin{tabular}{llll}\n",
      "\\toprule\n",
      "{} & Maths symbol & Description &                                            Example \\\\\n",
      "Hyperparameter     &              &             &                                                    \\\\\n",
      "\\midrule\n",
      "GRAPH\\_TYPE         &              &    describe &                                                ER2 \\\\\n",
      "D                  &              &    describe &                                                 30 \\\\\n",
      "MAX\\_SIZE           &              &    describe &                                                 66 \\\\\n",
      "SEM\\_NOISE          &              &    describe &                                        gaussian\\_ev \\\\\n",
      "N                  &              &    describe &                                               1200 \\\\\n",
      "VAL                &              &    describe &                                           0.166667 \\\\\n",
      "N\\_EPOCHS           &              &    describe &                                               1000 \\\\\n",
      "BATCH\\_SIZE         &              &    describe &                                                 32 \\\\\n",
      "BATCH\\_SHUFFLE      &              &    describe &                                               True \\\\\n",
      "N\\_SAMPLES          &              &    describe &                                                 10 \\\\\n",
      "h\\_NULL             &              &    describe &  trial.suggest\\_float(\"h\\_null\", 1e-3, 3., log=True) \\\\\n",
      "h\\_LR               &              &    describe &    trial.suggest\\_float(\"h\\_lr\", 1e-5, 1., log=True) \\\\\n",
      "h\\_OPTIMIZER        &              &    describe &  torch.optim.Adam(overall\\_net.h\\_net.parameters(... \\\\\n",
      "f\\_LR               &              &    describe &    trial.suggest\\_float(\"f\\_lr\", 1e-5, 1., log=True) \\\\\n",
      "f\\_OPTIMIZER        &              &    describe &  torch.optim.Adam(overall\\_net.f\\_net.parameters(... \\\\\n",
      "NOISE\\_TEMPERATURE  &              &    describe &  trial.suggest\\_float(\"noise\\_temp\", 0.03, 30, lo... \\\\\n",
      "NOISE\\_DISTRIBUTION &              &    describe &                          GumbelNoiseDistribution() \\\\\n",
      "LAMBDA             &              &    describe &  trial.suggest\\_float(\"lambda\", 0.03, 30, log=True) \\\\\n",
      "z\\_RHO              &              &    describe &    trial.suggest\\_float(\"z\\_rho\", 0.01, 2, log=True) \\\\\n",
      "z\\_MU               &              &    describe &     trial.suggest\\_float(\"z\\_mu\", 0.01, 2, log=True) \\\\\n",
      "z\\_REGULARIZER      &              &    describe &  NoTearsZRegularizer(h.D, h.z\\_RHO, h.z\\_MU, c.DE... \\\\\n",
      "\\bottomrule\n",
      "\\end{tabular}\n",
      "\n"
     ]
    }
   ],
   "source": [
    "import warnings\n",
    "\n",
    "with warnings.catch_warnings():\n",
    "    warnings.simplefilter(\"ignore\")\n",
    "    print(df.to_latex())"
   ],
   "metadata": {
    "collapsed": false,
    "pycharm": {
     "name": "#%%\n"
    }
   }
  },
  {
   "cell_type": "code",
   "execution_count": null,
   "outputs": [],
   "source": [],
   "metadata": {
    "collapsed": false,
    "pycharm": {
     "name": "#%%\n"
    }
   }
  }
 ],
 "metadata": {
  "kernelspec": {
   "display_name": "Python 3",
   "language": "python",
   "name": "python3"
  },
  "language_info": {
   "codemirror_mode": {
    "name": "ipython",
    "version": 2
   },
   "file_extension": ".py",
   "mimetype": "text/x-python",
   "name": "python",
   "nbconvert_exporter": "python",
   "pygments_lexer": "ipython2",
   "version": "2.7.6"
  }
 },
 "nbformat": 4,
 "nbformat_minor": 0
}
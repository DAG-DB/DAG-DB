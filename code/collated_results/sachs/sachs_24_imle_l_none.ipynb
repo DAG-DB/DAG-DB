{
 "cells": [
  {
   "cell_type": "code",
   "execution_count": 1,
   "outputs": [],
   "source": [
    "import os\n",
    "\n",
    "import matplotlib\n",
    "import matplotlib.pyplot as plt\n",
    "import pandas as pd\n",
    "import seaborn as sns\n",
    "\n",
    "FILE = 'sachs_dag_training_lambda_0,1_combined'\n",
    "assert FILE in ['sachs_imle_l_none', 'sachs_dag_training_combined',\n",
    "                'sachs_dag_training_lambda_0,1_combined']"
   ],
   "metadata": {
    "collapsed": false,
    "pycharm": {
     "name": "#%%\n"
    }
   }
  },
  {
   "cell_type": "code",
   "execution_count": 2,
   "outputs": [],
   "source": [
    "results = pd.read_csv(os.path.join('..', '..', '..', 'results', FILE + '.csv'))\n",
    "\n",
    "meanprops={\n",
    "    \"marker\":\"o\", \"markerfacecolor\":\"white\", \"markeredgecolor\":\"black\",\n",
    "    \"markersize\":\"10\"\n",
    "}\n",
    "\n",
    "def get_rec_c(df_row):\n",
    "    return df_row['prec_c'] * max(1, df_row['pr. size']) / 17"
   ],
   "metadata": {
    "collapsed": false,
    "pycharm": {
     "name": "#%%\n"
    }
   }
  },
  {
   "cell_type": "code",
   "execution_count": 3,
   "outputs": [],
   "source": [
    "if FILE == 'sachs_imle_l_none':  # correct naming error\n",
    "    results = results.rename(columns={'tpr_c': 'prec_c'})\n",
    "results = results.rename(columns={'size': 'pr. size', })\n",
    "results['shd_c'] =  results['nshd_c'] * 11\n",
    "results['rec_c'] = results.apply(get_rec_c, axis=1)\n",
    "results = results.drop(columns=['MAX_SIZE', 'LAMBDA', 'NOISE_TEMPERATURE',\n",
    "                           'h_NULL', 'h_LR', 'z_RHO',\n",
    "       'z_MU', 'DAGS', 'train_loss', 'val_loss',  'nshd',\n",
    "       'tpr', 'change_adj_count', 'graph_set', 'nshd_c'])"
   ],
   "metadata": {
    "collapsed": false,
    "pycharm": {
     "name": "#%%\n"
    }
   }
  },
  {
   "cell_type": "code",
   "execution_count": 4,
   "outputs": [
    {
     "data": {
      "text/plain": "(12.249999999999991, 11.99999999999999)"
     },
     "execution_count": 4,
     "metadata": {},
     "output_type": "execute_result"
    }
   ],
   "source": [
    "results['shd_c'].mean(), results['shd_c'].median()"
   ],
   "metadata": {
    "collapsed": false,
    "pycharm": {
     "name": "#%%\n"
    }
   }
  },
  {
   "cell_type": "code",
   "execution_count": 5,
   "outputs": [
    {
     "data": {
      "text/plain": "(0.9694444444444446, 1.0)"
     },
     "execution_count": 5,
     "metadata": {},
     "output_type": "execute_result"
    }
   ],
   "source": [
    "results['prec_c'].mean(), results['prec_c'].median()"
   ],
   "metadata": {
    "collapsed": false,
    "pycharm": {
     "name": "#%%\n"
    }
   }
  },
  {
   "cell_type": "code",
   "execution_count": 6,
   "outputs": [
    {
     "data": {
      "text/plain": "(0.2794117647058823, 0.29411764705882354)"
     },
     "execution_count": 6,
     "metadata": {},
     "output_type": "execute_result"
    }
   ],
   "source": [
    "results['rec_c'].mean(), results['rec_c'].median()"
   ],
   "metadata": {
    "collapsed": false,
    "pycharm": {
     "name": "#%%\n"
    }
   }
  },
  {
   "cell_type": "code",
   "execution_count": 7,
   "outputs": [
    {
     "data": {
      "text/plain": "(4.916666666666667, 5.0)"
     },
     "execution_count": 7,
     "metadata": {},
     "output_type": "execute_result"
    }
   ],
   "source": [
    "results['pr. size'].mean(), results['pr. size'].median()"
   ],
   "metadata": {
    "collapsed": false,
    "pycharm": {
     "name": "#%%\n"
    }
   }
  },
  {
   "cell_type": "code",
   "execution_count": 8,
   "outputs": [
    {
     "data": {
      "text/plain": "     i  pr. size    prec_c  shd_c     rec_c\n0    0         4  1.000000   13.0  0.235294\n1    0         5  0.600000   14.0  0.176471\n2    1         5  1.000000   12.0  0.294118\n3    2         6  1.000000   11.0  0.352941\n4    3         5  1.000000   12.0  0.294118\n5    4         5  1.000000   12.0  0.294118\n6    5         5  1.000000   12.0  0.294118\n7    6         4  1.000000   13.0  0.235294\n8    7         5  1.000000   12.0  0.294118\n9    8         5  1.000000   12.0  0.294118\n10   9         5  1.000000   12.0  0.294118\n11  10         4  1.000000   13.0  0.235294\n12  11         5  1.000000   12.0  0.294118\n13  12         5  1.000000   12.0  0.294118\n14  13         6  1.000000   11.0  0.352941\n15  14         5  1.000000   12.0  0.294118\n16  15         5  1.000000   12.0  0.294118\n17  16         5  1.000000   12.0  0.294118\n18   0         5  1.000000   12.0  0.294118\n19   1         5  1.000000   12.0  0.294118\n20   2         4  1.000000   13.0  0.235294\n21   3         4  1.000000   13.0  0.235294\n22   4         6  0.666667   13.0  0.235294\n23   5         5  1.000000   12.0  0.294118",
      "text/html": "<div>\n<style scoped>\n    .dataframe tbody tr th:only-of-type {\n        vertical-align: middle;\n    }\n\n    .dataframe tbody tr th {\n        vertical-align: top;\n    }\n\n    .dataframe thead th {\n        text-align: right;\n    }\n</style>\n<table border=\"1\" class=\"dataframe\">\n  <thead>\n    <tr style=\"text-align: right;\">\n      <th></th>\n      <th>i</th>\n      <th>pr. size</th>\n      <th>prec_c</th>\n      <th>shd_c</th>\n      <th>rec_c</th>\n    </tr>\n  </thead>\n  <tbody>\n    <tr>\n      <th>0</th>\n      <td>0</td>\n      <td>4</td>\n      <td>1.000000</td>\n      <td>13.0</td>\n      <td>0.235294</td>\n    </tr>\n    <tr>\n      <th>1</th>\n      <td>0</td>\n      <td>5</td>\n      <td>0.600000</td>\n      <td>14.0</td>\n      <td>0.176471</td>\n    </tr>\n    <tr>\n      <th>2</th>\n      <td>1</td>\n      <td>5</td>\n      <td>1.000000</td>\n      <td>12.0</td>\n      <td>0.294118</td>\n    </tr>\n    <tr>\n      <th>3</th>\n      <td>2</td>\n      <td>6</td>\n      <td>1.000000</td>\n      <td>11.0</td>\n      <td>0.352941</td>\n    </tr>\n    <tr>\n      <th>4</th>\n      <td>3</td>\n      <td>5</td>\n      <td>1.000000</td>\n      <td>12.0</td>\n      <td>0.294118</td>\n    </tr>\n    <tr>\n      <th>5</th>\n      <td>4</td>\n      <td>5</td>\n      <td>1.000000</td>\n      <td>12.0</td>\n      <td>0.294118</td>\n    </tr>\n    <tr>\n      <th>6</th>\n      <td>5</td>\n      <td>5</td>\n      <td>1.000000</td>\n      <td>12.0</td>\n      <td>0.294118</td>\n    </tr>\n    <tr>\n      <th>7</th>\n      <td>6</td>\n      <td>4</td>\n      <td>1.000000</td>\n      <td>13.0</td>\n      <td>0.235294</td>\n    </tr>\n    <tr>\n      <th>8</th>\n      <td>7</td>\n      <td>5</td>\n      <td>1.000000</td>\n      <td>12.0</td>\n      <td>0.294118</td>\n    </tr>\n    <tr>\n      <th>9</th>\n      <td>8</td>\n      <td>5</td>\n      <td>1.000000</td>\n      <td>12.0</td>\n      <td>0.294118</td>\n    </tr>\n    <tr>\n      <th>10</th>\n      <td>9</td>\n      <td>5</td>\n      <td>1.000000</td>\n      <td>12.0</td>\n      <td>0.294118</td>\n    </tr>\n    <tr>\n      <th>11</th>\n      <td>10</td>\n      <td>4</td>\n      <td>1.000000</td>\n      <td>13.0</td>\n      <td>0.235294</td>\n    </tr>\n    <tr>\n      <th>12</th>\n      <td>11</td>\n      <td>5</td>\n      <td>1.000000</td>\n      <td>12.0</td>\n      <td>0.294118</td>\n    </tr>\n    <tr>\n      <th>13</th>\n      <td>12</td>\n      <td>5</td>\n      <td>1.000000</td>\n      <td>12.0</td>\n      <td>0.294118</td>\n    </tr>\n    <tr>\n      <th>14</th>\n      <td>13</td>\n      <td>6</td>\n      <td>1.000000</td>\n      <td>11.0</td>\n      <td>0.352941</td>\n    </tr>\n    <tr>\n      <th>15</th>\n      <td>14</td>\n      <td>5</td>\n      <td>1.000000</td>\n      <td>12.0</td>\n      <td>0.294118</td>\n    </tr>\n    <tr>\n      <th>16</th>\n      <td>15</td>\n      <td>5</td>\n      <td>1.000000</td>\n      <td>12.0</td>\n      <td>0.294118</td>\n    </tr>\n    <tr>\n      <th>17</th>\n      <td>16</td>\n      <td>5</td>\n      <td>1.000000</td>\n      <td>12.0</td>\n      <td>0.294118</td>\n    </tr>\n    <tr>\n      <th>18</th>\n      <td>0</td>\n      <td>5</td>\n      <td>1.000000</td>\n      <td>12.0</td>\n      <td>0.294118</td>\n    </tr>\n    <tr>\n      <th>19</th>\n      <td>1</td>\n      <td>5</td>\n      <td>1.000000</td>\n      <td>12.0</td>\n      <td>0.294118</td>\n    </tr>\n    <tr>\n      <th>20</th>\n      <td>2</td>\n      <td>4</td>\n      <td>1.000000</td>\n      <td>13.0</td>\n      <td>0.235294</td>\n    </tr>\n    <tr>\n      <th>21</th>\n      <td>3</td>\n      <td>4</td>\n      <td>1.000000</td>\n      <td>13.0</td>\n      <td>0.235294</td>\n    </tr>\n    <tr>\n      <th>22</th>\n      <td>4</td>\n      <td>6</td>\n      <td>0.666667</td>\n      <td>13.0</td>\n      <td>0.235294</td>\n    </tr>\n    <tr>\n      <th>23</th>\n      <td>5</td>\n      <td>5</td>\n      <td>1.000000</td>\n      <td>12.0</td>\n      <td>0.294118</td>\n    </tr>\n  </tbody>\n</table>\n</div>"
     },
     "execution_count": 8,
     "metadata": {},
     "output_type": "execute_result"
    }
   ],
   "source": [
    "results"
   ],
   "metadata": {
    "collapsed": false,
    "pycharm": {
     "name": "#%%\n"
    }
   }
  },
  {
   "cell_type": "code",
   "execution_count": 8,
   "outputs": [],
   "source": [],
   "metadata": {
    "collapsed": false,
    "pycharm": {
     "name": "#%%\n"
    }
   }
  }
 ],
 "metadata": {
  "kernelspec": {
   "display_name": "Python 3",
   "language": "python",
   "name": "python3"
  },
  "language_info": {
   "codemirror_mode": {
    "name": "ipython",
    "version": 2
   },
   "file_extension": ".py",
   "mimetype": "text/x-python",
   "name": "python",
   "nbconvert_exporter": "python",
   "pygments_lexer": "ipython2",
   "version": "2.7.6"
  }
 },
 "nbformat": 4,
 "nbformat_minor": 0
}
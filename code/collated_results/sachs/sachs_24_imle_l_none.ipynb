{
 "cells": [
  {
   "cell_type": "code",
   "execution_count": 1,
   "outputs": [],
   "source": [
    "import os\n",
    "\n",
    "import matplotlib\n",
    "import matplotlib.pyplot as plt\n",
    "import pandas as pd\n",
    "import seaborn as sns\n"
   ],
   "metadata": {
    "collapsed": false,
    "pycharm": {
     "name": "#%%\n"
    }
   }
  },
  {
   "cell_type": "code",
   "execution_count": 4,
   "outputs": [],
   "source": [
    "results = pd.read_csv(os.path.join(\n",
    "    '..', '..', '..', 'results', 'sachs_imle_l_none.csv'))\n",
    "\n",
    "meanprops={\n",
    "    \"marker\":\"o\", \"markerfacecolor\":\"white\", \"markeredgecolor\":\"black\",\n",
    "    \"markersize\":\"10\"\n",
    "}\n",
    "\n",
    "def get_rec_c(df_row):\n",
    "    return df_row['prec_c'] * max(1, df_row['pr. size']) / 17"
   ],
   "metadata": {
    "collapsed": false,
    "pycharm": {
     "name": "#%%\n"
    }
   }
  },
  {
   "cell_type": "code",
   "execution_count": 5,
   "outputs": [],
   "source": [
    "results = results.rename(columns={\n",
    "    'size': 'pr. size', 'tpr_c': 'prec_c'})  # Change name, correct metric\n",
    "results['shd_c'] =  results['nshd_c'] * 11\n",
    "results['rec_c'] = results.apply(get_rec_c, axis=1)\n",
    "results = results.drop(columns=['MAX_SIZE', 'LAMBDA', 'NOISE_TEMPERATURE',\n",
    "                           'h_NULL', 'h_LR', 'z_RHO',\n",
    "       'z_MU', 'DAGS', 'train_loss', 'val_loss',  'nshd',\n",
    "       'tpr', 'change_adj_count', 'graph_set', 'nshd_c'])"
   ],
   "metadata": {
    "collapsed": false,
    "pycharm": {
     "name": "#%%\n"
    }
   }
  },
  {
   "cell_type": "code",
   "execution_count": 9,
   "outputs": [
    {
     "data": {
      "text/plain": "(12.666666666666666, 13.000000000000004)"
     },
     "execution_count": 9,
     "metadata": {},
     "output_type": "execute_result"
    }
   ],
   "source": [
    "results['shd_c'].mean(), results['shd_c'].median()"
   ],
   "metadata": {
    "collapsed": false,
    "pycharm": {
     "name": "#%%\n"
    }
   }
  },
  {
   "cell_type": "code",
   "execution_count": 10,
   "outputs": [
    {
     "data": {
      "text/plain": "(0.8694444444444446, 1.0)"
     },
     "execution_count": 10,
     "metadata": {},
     "output_type": "execute_result"
    }
   ],
   "source": [
    "results['prec_c'].mean(), results['prec_c'].median()"
   ],
   "metadata": {
    "collapsed": false,
    "pycharm": {
     "name": "#%%\n"
    }
   }
  },
  {
   "cell_type": "code",
   "execution_count": 11,
   "outputs": [
    {
     "data": {
      "text/plain": "(0.25490196078431376, 0.23529411764705882)"
     },
     "execution_count": 11,
     "metadata": {},
     "output_type": "execute_result"
    }
   ],
   "source": [
    "results['rec_c'].mean(), results['rec_c'].median()"
   ],
   "metadata": {
    "collapsed": false,
    "pycharm": {
     "name": "#%%\n"
    }
   }
  },
  {
   "cell_type": "code",
   "execution_count": 12,
   "outputs": [
    {
     "data": {
      "text/plain": "(5.0, 5.0)"
     },
     "execution_count": 12,
     "metadata": {},
     "output_type": "execute_result"
    }
   ],
   "source": [
    "results['pr. size'].mean(), results['pr. size'].median()"
   ],
   "metadata": {
    "collapsed": false,
    "pycharm": {
     "name": "#%%\n"
    }
   }
  },
  {
   "cell_type": "code",
   "execution_count": null,
   "outputs": [],
   "source": [],
   "metadata": {
    "collapsed": false,
    "pycharm": {
     "name": "#%%\n"
    }
   }
  }
 ],
 "metadata": {
  "kernelspec": {
   "display_name": "Python 3",
   "language": "python",
   "name": "python3"
  },
  "language_info": {
   "codemirror_mode": {
    "name": "ipython",
    "version": 2
   },
   "file_extension": ".py",
   "mimetype": "text/x-python",
   "name": "python",
   "nbconvert_exporter": "python",
   "pygments_lexer": "ipython2",
   "version": "2.7.6"
  }
 },
 "nbformat": 4,
 "nbformat_minor": 0
}
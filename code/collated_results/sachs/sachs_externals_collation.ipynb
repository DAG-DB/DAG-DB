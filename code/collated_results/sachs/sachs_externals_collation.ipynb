{
 "cells": [
  {
   "cell_type": "code",
   "execution_count": 1,
   "metadata": {
    "collapsed": true,
    "pycharm": {
     "name": "#%%\n"
    }
   },
   "outputs": [],
   "source": [
    "import os\n",
    "\n",
    "import numpy as np\n",
    "\n",
    "from utils.metrics import count_accuracy"
   ]
  },
  {
   "cell_type": "code",
   "execution_count": 2,
   "outputs": [
    {
     "data": {
      "text/plain": "array([[ 0.,  0.,  0.,  0.,  0.,  0.,  0.,  0.,  0.,  0.,  0.],\n       [-1.,  0.,  0.,  0.,  0.,  0.,  0.,  0.,  0.,  0.,  0.],\n       [ 0.,  0.,  0.,  0., -1.,  0.,  0.,  0.,  0.,  0.,  0.],\n       [ 0.,  0.,  0.,  0.,  0.,  0.,  0.,  0.,  0.,  0.,  0.],\n       [ 0.,  0.,  0., -1.,  0.,  0.,  0.,  0.,  0.,  0.,  0.],\n       [ 0.,  0.,  0.,  0.,  0.,  0.,  0., -1.,  0.,  0.,  0.],\n       [ 0.,  0.,  0.,  0.,  0., -1.,  0.,  0.,  0.,  0.,  0.],\n       [ 0.,  0.,  0.,  0.,  0.,  0., -1.,  0.,  0.,  0.,  0.],\n       [ 0.,  0.,  0.,  0.,  0.,  0.,  0.,  0.,  0.,  0.,  0.],\n       [ 0.,  0.,  0.,  0.,  0.,  0.,  0.,  0.,  1.,  0.,  0.],\n       [ 0.,  0.,  0.,  0.,  0.,  0.,  0.,  0.,  1.,  0.,  0.]])"
     },
     "execution_count": 2,
     "metadata": {},
     "output_type": "execute_result"
    }
   ],
   "source": [
    "RESULTS_FOLDER = os.path.join('..', '..', '..', 'results', 'sachs')\n",
    "ADJ_TRUE_FILE = os.path.join(RESULTS_FOLDER, 'Sachs_adj_true.npy')\n",
    "ADJ_GOLEM_NV = os.path.join(RESULTS_FOLDER, 'Sachs_adj_pred_GOLEM-NV.npy')\n",
    "ADJ_GOLEM_EV = os.path.join(RESULTS_FOLDER, 'Sachs_adj_pred_GOLEM-EV.npy')\n",
    "ADJ_NOTEARS = os.path.join(RESULTS_FOLDER, 'Sachs_adj_pred_NOTEARS-L1.npy')\n",
    "ADJ_PC = os.path.join(RESULTS_FOLDER, 'Sachs_adj_pred_PC.npy')\n",
    "ADJ_FGES = os.path.join(RESULTS_FOLDER, 'Sachs_adj_pred_FGES.npy')\n",
    "\n",
    "adj_true = np.load(ADJ_TRUE_FILE)\n",
    "adj_golem_nv = np.load(ADJ_GOLEM_NV)\n",
    "adj_golem_ev = np.load(ADJ_GOLEM_EV)\n",
    "adj_notears = np.load(ADJ_NOTEARS)\n",
    "adj_pc = np.load(ADJ_PC)\n",
    "adj_fges = np.load(ADJ_FGES)\n",
    "\n",
    "adj_fges"
   ],
   "metadata": {
    "collapsed": false,
    "pycharm": {
     "name": "#%%\n"
    }
   }
  },
  {
   "cell_type": "code",
   "execution_count": 3,
   "outputs": [
    {
     "name": "stdout",
     "output_type": "stream",
     "text": [
      "\n",
      "GOLEM_NV:\n",
      "\tshd_c=11\tprec_c=1.000\trec_c=0.353\tpred_size=6\n",
      "\n",
      "GOLEM_EV:\n",
      "\tshd_c=19\tprec_c=0.417\trec_c=0.294\tpred_size=12\n",
      "\n",
      "NOTEARS:\n",
      "\tshd_c=11\tprec_c=0.467\trec_c=0.412\tpred_size=15\n",
      "\n",
      "PC:\n",
      "\tshd_c=11\tprec_c=0.750\trec_c=0.353\tpred_size=8\n",
      "\n",
      "FGES:\n",
      "\tshd_c=11\tprec_c=0.750\trec_c=0.353\tpred_size=8\n"
     ]
    }
   ],
   "source": [
    "for algo, adj_pred in [\n",
    "    ('GOLEM_NV', adj_golem_nv),\n",
    "    ('GOLEM_EV', adj_golem_ev),\n",
    "    ('NOTEARS', adj_notears),\n",
    "\t('PC', adj_pc),\n",
    "\t('FGES', adj_fges)\n",
    "]:\n",
    "    adj_pred = adj_pred.astype(bool).astype(int) if algo == 'NOTEARS' \\\n",
    "        else adj_pred  # Don't do for all as PC, FGES can have -1 entries\n",
    "    assert np.all(adj_pred.astype(int) == adj_pred)\n",
    "    metrics = count_accuracy(adj_true, adj_pred)\n",
    "    d = adj_true.shape[0]\n",
    "    assert d * metrics[\"nshd_c\"] == (shd_c := int(d * metrics[\"nshd_c\"]))\n",
    "    print(f'\\n{algo}:')\n",
    "    print(f'\\t{shd_c=}\\tprec_c={metrics[\"prec_c\"]:.3f}\\t'\n",
    "\t\t  f'rec_c={metrics[\"rec_c\"]:.3f}\\tpred_size={metrics[\"pred_size\"]}')"
   ],
   "metadata": {
    "collapsed": false,
    "pycharm": {
     "name": "#%%\n"
    }
   }
  },
  {
   "cell_type": "code",
   "execution_count": 3,
   "outputs": [],
   "source": [],
   "metadata": {
    "collapsed": false,
    "pycharm": {
     "name": "#%%\n"
    }
   }
  }
 ],
 "metadata": {
  "kernelspec": {
   "display_name": "Python 3",
   "language": "python",
   "name": "python3"
  },
  "language_info": {
   "codemirror_mode": {
    "name": "ipython",
    "version": 2
   },
   "file_extension": ".py",
   "mimetype": "text/x-python",
   "name": "python",
   "nbconvert_exporter": "python",
   "pygments_lexer": "ipython2",
   "version": "2.7.6"
  }
 },
 "nbformat": 4,
 "nbformat_minor": 0
}
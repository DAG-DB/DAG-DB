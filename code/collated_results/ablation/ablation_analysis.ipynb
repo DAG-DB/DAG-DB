{
 "cells": [
  {
   "cell_type": "code",
   "execution_count": 1,
   "metadata": {
    "collapsed": true,
    "pycharm": {
     "name": "#%%\n"
    }
   },
   "outputs": [],
   "source": [
    "import pandas as pd\n",
    "\n",
    "\n",
    "FILE_TYPE = 'IMLE_Logistic_None'\n",
    "\n",
    "assert FILE_TYPE in [\n",
    "\t'IMLE_Logistic_66', 'STE_Logistic_84', 'IMLE_Logistic_None']\n",
    "\n",
    "usecols = ['j', 'MAX_SIZE', 'z_RHO', 'z_MU', 'nshd_c', 'tpr_c']\n",
    "results = pd.read_csv(f'{FILE_TYPE}_ablation.csv', usecols=usecols)\n",
    "grouped_results = results.groupby('j')\n",
    "hp_res = grouped_results.mean().drop(columns=['z_RHO', 'z_MU']).apply(\n",
    "    lambda x: round(x, 3)\n",
    ")\n",
    "hp_res = hp_res.reset_index().drop(columns='j')"
   ]
  },
  {
   "cell_type": "code",
   "execution_count": 2,
   "outputs": [
    {
     "name": "stdout",
     "output_type": "stream",
     "text": [
      "  MAX_SIZE     z_RHO      z_MU\n",
      "0     None       0.0       0.0\n",
      "1     None       0.0  0.001208\n",
      "2     None  0.157451       0.0\n",
      "3     None  0.157451  0.001208\n",
      "4       66       0.0       0.0\n",
      "5       66       0.0  0.001208\n",
      "6       66  0.157451       0.0\n",
      "7       66  0.157451  0.001208\n",
      "\\begin{tabular}{lllllllll}\n",
      "\\toprule\n",
      "{} &      0 &         1 &         2 &         3 &      4 &         5 &         6 &         7 \\\\\n",
      "\\midrule\n",
      "0 &   None &      None &      None &      None &     66 &        66 &        66 &        66 \\\\\n",
      "1 &    0.0 &       0.0 &  0.157451 &  0.157451 &    0.0 &       0.0 &  0.157451 &  0.157451 \\\\\n",
      "2 &    0.0 &  0.001208 &       0.0 &  0.001208 &    0.0 &  0.001208 &       0.0 &  0.001208 \\\\\n",
      "3 &  1.401 &     1.311 &     1.064 &     1.058 &  1.425 &     1.411 &     1.268 &     1.293 \\\\\n",
      "4 &  0.585 &     0.619 &     0.733 &     0.736 &  0.584 &     0.589 &     0.637 &     0.631 \\\\\n",
      "\\bottomrule\n",
      "\\end{tabular}\n",
      "\n"
     ]
    },
    {
     "name": "stderr",
     "output_type": "stream",
     "text": [
      "/tmp/ipykernel_7139/423203715.py:8: FutureWarning: In future versions `DataFrame.to_latex` is expected to utilise the base implementation of `Styler.to_latex` for formatting and rendering. The arguments signature may therefore change. It is recommended instead to use `DataFrame.style.to_latex` which also contains additional functionality.\n",
      "  print(tab.transpose().to_latex())\n"
     ]
    }
   ],
   "source": [
    "hps = list()\n",
    "for j in range(0, 8):\n",
    "    hps.append(results[results['j'] == j + 1][['MAX_SIZE', 'z_RHO', 'z_MU']]\n",
    "               .iloc[0].to_frame().transpose())\n",
    "hps = pd.concat(hps, ignore_index=True)\n",
    "print(hps)\n",
    "tab = pd.concat((hps, hp_res), axis=1, ignore_index=True)\n",
    "print(tab.transpose().to_latex())\n",
    "# Note for FILE_TYPE = 'IMLE_Logistic_None' need to reorder columns"
   ],
   "metadata": {
    "collapsed": false,
    "pycharm": {
     "name": "#%%\n"
    }
   }
  },
  {
   "cell_type": "code",
   "execution_count": 2,
   "outputs": [],
   "source": [],
   "metadata": {
    "collapsed": false,
    "pycharm": {
     "name": "#%%\n"
    }
   }
  },
  {
   "cell_type": "code",
   "execution_count": 2,
   "outputs": [],
   "source": [],
   "metadata": {
    "collapsed": false,
    "pycharm": {
     "name": "#%%\n"
    }
   }
  }
 ],
 "metadata": {
  "kernelspec": {
   "display_name": "Python 3",
   "language": "python",
   "name": "python3"
  },
  "language_info": {
   "codemirror_mode": {
    "name": "ipython",
    "version": 2
   },
   "file_extension": ".py",
   "mimetype": "text/x-python",
   "name": "python",
   "nbconvert_exporter": "python",
   "pygments_lexer": "ipython2",
   "version": "2.7.6"
  }
 },
 "nbformat": 4,
 "nbformat_minor": 0
}
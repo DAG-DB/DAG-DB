{
 "cells": [
  {
   "cell_type": "code",
   "execution_count": 1,
   "outputs": [],
   "source": [
    "import os\n",
    "\n",
    "LOGS = os.path.join('..', '..', '..', 'logs_to_collate', 'l_66')\n",
    "unwanted = {\n",
    "    'l_66_4hps': [7,  17,  36,  39,  50,  57,  59,  60,  70,  81,  83,  85,  88,\n",
    "        99, 100, 101, 111, 113, 114, 118, 122, 124, 125, 129, 130, 139,\n",
    "       140, 148, 152, 153, 154, 155, 156, 157, 158, 159, 161, 162, 163,\n",
    "       164, 165, 166, 167, 173, 174, 179, 181, 183, 187, 188, 195, 200,\n",
    "       202, 221, 223, 226, 255, 256, 261, 266, 282, 285, 292, 294, 306,\n",
    "       315],\n",
    "    'l_66none_4hps': [ 33,  37,  89, 119, 132, 135, 139, 146, 150, 152, 158, 159, 169,\n",
    "       172, 175, 176, 181, 185, 206, 208, 210, 226, 228, 234, 240, 246,\n",
    "       257, 269, 277, 282, 286]\n",
    "}"
   ],
   "metadata": {
    "collapsed": false,
    "pycharm": {
     "name": "#%%\n"
    }
   }
  },
  {
   "cell_type": "code",
   "execution_count": 6,
   "outputs": [],
   "source": [
    "# for file_name in os.listdir(LOGS):\n",
    "#     for key in unwanted:\n",
    "#         if (key not in file_name) or (file_name[-4: ] != '.log'):\n",
    "#             continue\n",
    "#         if int(file_name[-7: -4]) in unwanted[key]:\n",
    "#             src = os.path.join(LOGS, file_name)\n",
    "#             dest = os.path.join(LOGS, 'MARK' + file_name)\n",
    "#             os.rename(src, dest)"
   ],
   "metadata": {
    "collapsed": false,
    "pycharm": {
     "name": "#%%\n"
    }
   }
  },
  {
   "cell_type": "code",
   "execution_count": 5,
   "outputs": [],
   "source": [
    "# for file_name in os.listdir(LOGS):\n",
    "#     if file_name.startswith('MARK'):\n",
    "#             os.remove(os.path.join(LOGS, file_name))"
   ],
   "metadata": {
    "collapsed": false,
    "pycharm": {
     "name": "#%%\n"
    }
   }
  },
  {
   "cell_type": "code",
   "execution_count": null,
   "outputs": [],
   "source": [],
   "metadata": {
    "collapsed": false,
    "pycharm": {
     "name": "#%%\n"
    }
   }
  }
 ],
 "metadata": {
  "kernelspec": {
   "display_name": "Python 3",
   "language": "python",
   "name": "python3"
  },
  "language_info": {
   "codemirror_mode": {
    "name": "ipython",
    "version": 2
   },
   "file_extension": ".py",
   "mimetype": "text/x-python",
   "name": "python",
   "nbconvert_exporter": "python",
   "pygments_lexer": "ipython2",
   "version": "2.7.6"
  }
 },
 "nbformat": 4,
 "nbformat_minor": 0
}
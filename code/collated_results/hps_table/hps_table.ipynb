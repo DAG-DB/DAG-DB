{
 "cells": [
  {
   "cell_type": "code",
   "execution_count": 9,
   "metadata": {
    "collapsed": true,
    "pycharm": {
     "name": "#%%\n"
    }
   },
   "outputs": [],
   "source": [
    "import os\n",
    "\n",
    "import pandas as pd\n",
    "\n",
    "CONFIG_PATH = os.path.join('..', '..', 'named_configs')\n",
    "HPS = {\n",
    "\t# 'N_EPOCHS': True,  # All the same\n",
    "\t'BATCH_SIZE': True, 'N_SAMPLES': True, 'NOISE_TEMPERATURE': False,\n",
    "\t'LAMBDA': False, 'h_NULL': False, 'h_LR': False, 'f_LR': False,\n",
    "\t'z_RHO': False, 'z_MU': False\n",
    "}\n",
    "CONFIGS = {\n",
    "    'STE_Logistic_84':\n",
    "        'optuna_ste_best_logistic',\n",
    "    # 'STE_Gumbel_84':\n",
    "    #     'optuna_ste_best',\n",
    "    'STE_Logistic_None':\n",
    "        'optuna_none_ste_best_logistic',\n",
    "    # 'STE_Gumbel_None':\n",
    "    #     'optuna_none_ste_best_gumbel',\n",
    "    'IMLE_Logistic_66':\n",
    "        'logistic_candidate_66_test',\n",
    "    # 'IMLE_Gumbel_66':\n",
    "    #     'gumbel_candidate_66_test',\n",
    "    'IMLE_Logistic_None':\n",
    "        'logistic_candidate_none_1000eps',\n",
    "    # 'IMLE_Gumbel_None':\n",
    "    #     'gumbel_candidate_none_1000eps',\n",
    "    'SFE_Logistic_66':\n",
    "        'logistic_candidate_66_sfe'\n",
    "}\n",
    "\n",
    "\n",
    "def get_quantity(section, name, end_name=','):\n",
    "    start = section.index(name) + len(name) + 1\n",
    "    finish = start + section[start: ].index(end_name)\n",
    "    return section[start: finish]\n",
    "\n",
    "\n",
    "def latex_float(quantity):\n",
    "    quantity = float(quantity)\n",
    "    return f'\\\\num{{{quantity:.3e}}}'\n",
    "\n",
    "\n",
    "def latex_int(quantity):\n",
    "    quantity = int(quantity)\n",
    "    return f'\\\\multicolumn{{1}}{{c}}{{{quantity}}}'\n",
    "\n",
    "\n",
    "def get_hps(config, content, hp_values):\n",
    "    start_hps = content.index('hyperparameters =')\n",
    "    content = content[start_hps:]\n",
    "    hp_values['hp_set'].append(config)\n",
    "    for hp in HPS:\n",
    "        quantity = get_quantity(content, f\"'{hp}':\")\n",
    "        if '/' in quantity:\n",
    "            quantity = quantity.split('/')\n",
    "            quantity = float(quantity[0]) / float(quantity[1])\n",
    "        if hp == 'LAMBDA':\n",
    "            quantity = latex_float(quantity) if 'IMLE' in config else ''\n",
    "        elif (hp == 'BATCH_SIZE') and ('None' in quantity):\n",
    "            quantity = get_quantity(content, \"'LOG2_BATCH_SIZE'\")\n",
    "            quantity = latex_int(2 ** int(quantity))\n",
    "        else:\n",
    "            if HPS[hp]:\n",
    "                quantity = latex_int(quantity)\n",
    "            else:\n",
    "                quantity = latex_float(quantity)\n",
    "        hp_values[hp].append(quantity)\n",
    "\n",
    "    return hp_values\n"
   ]
  },
  {
   "cell_type": "code",
   "execution_count": 10,
   "outputs": [],
   "source": [
    "hp_values = {'hp_set': [], **{hp: [] for hp in HPS}}\n",
    "\n",
    "for config in CONFIGS:\n",
    "    with open(os.path.join(CONFIG_PATH, CONFIGS[config] + '.py')) as f:\n",
    "        content = f.read()\n",
    "    hp_values = get_hps(config, content, hp_values)\n"
   ],
   "metadata": {
    "collapsed": false,
    "pycharm": {
     "name": "#%%\n"
    }
   }
  },
  {
   "cell_type": "code",
   "execution_count": 11,
   "outputs": [],
   "source": [
    "tab = pd.DataFrame(hp_values)\n",
    "tab = tab.drop(columns='hp_set').transpose()\n",
    "tab.index = [ '\\\\hp' + name.replace('_','').lower() for name in tab.index]"
   ],
   "metadata": {
    "collapsed": false,
    "pycharm": {
     "name": "#%%\n"
    }
   }
  },
  {
   "cell_type": "code",
   "execution_count": 12,
   "outputs": [
    {
     "name": "stdout",
     "output_type": "stream",
     "text": [
      "\\begin{tabular}{llllll}\n",
      "\\toprule\n",
      "{} &                       0 &                       1 &                       2 &                       3 &                       4 \\\\\n",
      "\\midrule\n",
      "\\hpbatchsize        &  \\multicolumn{1}{c}{16} &  \\multicolumn{1}{c}{16} &  \\multicolumn{1}{c}{32} &   \\multicolumn{1}{c}{8} &  \\multicolumn{1}{c}{32} \\\\\n",
      "\\hpnsamples         &  \\multicolumn{1}{c}{10} &  \\multicolumn{1}{c}{50} &  \\multicolumn{1}{c}{10} &  \\multicolumn{1}{c}{47} &  \\multicolumn{1}{c}{10} \\\\\n",
      "\\hpnoisetemperature &         \\num{1.771e-01} &         \\num{4.432e-02} &         \\num{1.621e-01} &         \\num{8.786e-01} &         \\num{1.621e-01} \\\\\n",
      "\\hplambda           &                         &                         &         \\num{5.698e+00} &         \\num{2.714e+01} &                         \\\\\n",
      "\\hphnull            &         \\num{2.169e-02} &         \\num{1.098e-02} &         \\num{5.811e-03} &         \\num{1.137e-04} &         \\num{5.811e-03} \\\\\n",
      "\\hphlr              &         \\num{1.134e-04} &         \\num{5.359e-02} &         \\num{4.040e-03} &         \\num{1.616e-03} &         \\num{4.040e-03} \\\\\n",
      "\\hpflr              &         \\num{1.232e-02} &         \\num{2.385e-03} &         \\num{1.177e-02} &         \\num{3.720e-01} &         \\num{1.177e-02} \\\\\n",
      "\\hpzrho             &         \\num{4.101e-01} &         \\num{5.269e-01} &         \\num{2.802e-02} &         \\num{1.575e-01} &         \\num{2.802e-02} \\\\\n",
      "\\hpzmu              &         \\num{1.023e-02} &         \\num{1.197e-02} &         \\num{2.200e-01} &         \\num{1.208e-03} &         \\num{2.200e-01} \\\\\n",
      "\\bottomrule\n",
      "\\end{tabular}\n",
      "\n"
     ]
    },
    {
     "name": "stderr",
     "output_type": "stream",
     "text": [
      "/tmp/ipykernel_164724/1888304596.py:1: FutureWarning: In future versions `DataFrame.to_latex` is expected to utilise the base implementation of `Styler.to_latex` for formatting and rendering. The arguments signature may therefore change. It is recommended instead to use `DataFrame.style.to_latex` which also contains additional functionality.\n",
      "  print(tab.to_latex(float_format=\"%.3e\", escape=False))\n"
     ]
    }
   ],
   "source": [
    "print(tab.to_latex(float_format=\"%.3e\", escape=False))"
   ],
   "metadata": {
    "collapsed": false,
    "pycharm": {
     "name": "#%%\n"
    }
   }
  }
 ],
 "metadata": {
  "kernelspec": {
   "display_name": "Python 3",
   "language": "python",
   "name": "python3"
  },
  "language_info": {
   "codemirror_mode": {
    "name": "ipython",
    "version": 2
   },
   "file_extension": ".py",
   "mimetype": "text/x-python",
   "name": "python",
   "nbconvert_exporter": "python",
   "pygments_lexer": "ipython2",
   "version": "2.7.6"
  }
 },
 "nbformat": 4,
 "nbformat_minor": 0
}
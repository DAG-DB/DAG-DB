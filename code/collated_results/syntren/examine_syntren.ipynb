{
 "cells": [
  {
   "cell_type": "code",
   "execution_count": 15,
   "metadata": {
    "collapsed": true,
    "pycharm": {
     "name": "#%%\n"
    }
   },
   "outputs": [],
   "source": [
    "import os\n",
    "\n",
    "import numpy as np\n",
    "\n",
    "from utils.metrics import is_dag"
   ]
  },
  {
   "cell_type": "code",
   "execution_count": 2,
   "outputs": [],
   "source": [
    "SYNTREN_FOLDER = os.path.join('..', '..', '..', 'data', 'syntren')\n",
    "INNER_SYNTREN_FOLDER = os.path.join(SYNTREN_FOLDER, 'syntren')"
   ],
   "metadata": {
    "collapsed": false,
    "pycharm": {
     "name": "#%%\n"
    }
   }
  },
  {
   "cell_type": "code",
   "execution_count": 3,
   "outputs": [],
   "source": [
    "def syntren_name_changer():\n",
    "    for i in range(1, 10 + 1):\n",
    "        suffix = f'{i}.npy'\n",
    "        new_prefix = f'{str(i - 1).zfill(2)}_'\n",
    "        os.rename(\n",
    "            os.path.join(INNER_SYNTREN_FOLDER, f'DAG{suffix}'),\n",
    "            os.path.join(INNER_SYNTREN_FOLDER, f'{new_prefix}adj.npy')\n",
    "        )\n",
    "        os.rename(\n",
    "            os.path.join(INNER_SYNTREN_FOLDER, f'data{suffix}'),\n",
    "            os.path.join(INNER_SYNTREN_FOLDER, f'{new_prefix}data.npy')\n",
    "        )"
   ],
   "metadata": {
    "collapsed": false,
    "pycharm": {
     "name": "#%%\n"
    }
   }
  },
  {
   "cell_type": "code",
   "execution_count": 18,
   "outputs": [],
   "source": [
    "def get_syntren():\n",
    "    # cpdags = list()\n",
    "    dags = list()\n",
    "    datas = list()\n",
    "    for i in range(1, 10 + 1):\n",
    "        prefix = f'{str(i - 1).zfill(2)}_'\n",
    "        # cpdag = np.load(os.path.join(SYNTREN_FOLDER, 'CPDAG' + suffix))\n",
    "        # assert np.logical_or(cpdag == 0, cpdag == 1).all()\n",
    "        # cpdags.append(cpdag)\n",
    "        dag = np.load(os.path.join(INNER_SYNTREN_FOLDER, f'{prefix}adj.npy'))\n",
    "        dags.append(dag)\n",
    "        assert np.logical_or(dag == 0, dag == 1).all()\n",
    "        data = np.load(os.path.join(INNER_SYNTREN_FOLDER, f'{prefix}data.npy'))\n",
    "        datas.append(data)\n",
    "        print(f'DAG{i}:\\torder={dag.shape[0]},\\tsize={int(dag.sum())}'\n",
    "              f'\\t\\tis dag={is_dag(dag)}\\t\\tN={data.shape[0]}')\n",
    "\n",
    "    return dags, datas"
   ],
   "metadata": {
    "collapsed": false,
    "pycharm": {
     "name": "#%%\n"
    }
   }
  },
  {
   "cell_type": "code",
   "execution_count": 19,
   "outputs": [
    {
     "name": "stdout",
     "output_type": "stream",
     "text": [
      "DAG1:\torder=20,\tsize=24\t\tis dag=True\t\tN=500\n",
      "DAG2:\torder=20,\tsize=22\t\tis dag=True\t\tN=500\n",
      "DAG3:\torder=20,\tsize=26\t\tis dag=True\t\tN=500\n",
      "DAG4:\torder=20,\tsize=34\t\tis dag=True\t\tN=500\n",
      "DAG5:\torder=20,\tsize=23\t\tis dag=True\t\tN=500\n",
      "DAG6:\torder=20,\tsize=22\t\tis dag=True\t\tN=500\n",
      "DAG7:\torder=20,\tsize=20\t\tis dag=True\t\tN=500\n",
      "DAG8:\torder=20,\tsize=19\t\tis dag=True\t\tN=500\n",
      "DAG9:\torder=20,\tsize=23\t\tis dag=True\t\tN=500\n",
      "DAG10:\torder=20,\tsize=22\t\tis dag=True\t\tN=500\n"
     ]
    }
   ],
   "source": [
    "dags, datas = get_syntren()"
   ],
   "metadata": {
    "collapsed": false,
    "pycharm": {
     "name": "#%%\n"
    }
   }
  },
  {
   "cell_type": "code",
   "execution_count": 14,
   "outputs": [
    {
     "data": {
      "text/plain": "array([  102712.96103092,  3892691.12669667,   553398.00316255,\n          82001.70922641, 14965456.34542093,  1111498.74063011,\n        9810073.27439108,  2047199.2362416 ,  2370758.39990253,\n         125983.61856733,   111352.92331484,  1501115.67670744,\n        5384471.85236482,   185157.63686867,    64143.59407419,\n        3255212.13766564,  5432031.40351926,   571799.29650255,\n       11225693.21597496,  9818772.6055704 ])"
     },
     "execution_count": 14,
     "metadata": {},
     "output_type": "execute_result"
    }
   ],
   "source": [
    "datas[0].var(axis=0)"
   ],
   "metadata": {
    "collapsed": false,
    "pycharm": {
     "name": "#%%\n"
    }
   }
  },
  {
   "cell_type": "code",
   "execution_count": null,
   "outputs": [],
   "source": [],
   "metadata": {
    "collapsed": false,
    "pycharm": {
     "name": "#%%\n"
    }
   }
  }
 ],
 "metadata": {
  "kernelspec": {
   "display_name": "Python 3",
   "language": "python",
   "name": "python3"
  },
  "language_info": {
   "codemirror_mode": {
    "name": "ipython",
    "version": 2
   },
   "file_extension": ".py",
   "mimetype": "text/x-python",
   "name": "python",
   "nbconvert_exporter": "python",
   "pygments_lexer": "ipython2",
   "version": "2.7.6"
  }
 },
 "nbformat": 4,
 "nbformat_minor": 0
}